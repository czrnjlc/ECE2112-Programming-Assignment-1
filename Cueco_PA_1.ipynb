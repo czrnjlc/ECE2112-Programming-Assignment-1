{
 "cells": [
  {
   "cell_type": "markdown",
   "id": "a17e6684-1704-465e-9f38-ed397e005d2d",
   "metadata": {},
   "source": [
    "### Programming Assignment 1\n",
    "\n",
    "Czarina Julia C. Cueco\n",
    "\n",
    "2ECE-B"
   ]
  },
  {
   "cell_type": "markdown",
   "id": "e74d180e-53c1-4858-a56d-66f6377ed3ed",
   "metadata": {},
   "source": [
    "# Alphabet Soup Problem"
   ]
  },
  {
   "cell_type": "code",
   "execution_count": 7,
   "id": "3f85b848-3c9d-48e6-ae4b-24c53da52096",
   "metadata": {},
   "outputs": [
    {
     "name": "stdout",
     "output_type": "stream",
     "text": [
      "acehkr\n"
     ]
    }
   ],
   "source": [
    "def alphabet_soup(s):\n",
    "    # Sort the characters in the string 's' and join them into a single string\n",
    "    print (\"\".join(sorted(s)))\n",
    "\n",
    "# Call the function with a string\n",
    "alphabet_soup(\"hacker\")"
   ]
  },
  {
   "cell_type": "markdown",
   "id": "465ad253-3952-4b75-81c9-3effd8387b11",
   "metadata": {},
   "source": [
    "# Emoticon Problem"
   ]
  },
  {
   "cell_type": "code",
   "execution_count": 9,
   "id": "4673840d-e2ef-42e9-bec3-98b473a2f7eb",
   "metadata": {},
   "outputs": [
    {
     "name": "stdout",
     "output_type": "stream",
     "text": [
      "Make me :)\n"
     ]
    }
   ],
   "source": [
    "def emotify(s):\n",
    "    # Replace the word \"Smile\" with the corresponding emoticon \":)\"\n",
    "    s = s.replace(\"Smile\", \":)\")\n",
    "    # Replace the word \"Grin\" with the corresponding emoticon \":D\"\n",
    "    s = s.replace(\"Grin\", \":D\")\n",
    "    # Replace the word \"Sad\" with the corresponding emoticon \":((\"\n",
    "    s = s.replace(\"Sad\", \":((\")\n",
    "    # Replace the word \"Mad\" with the corresponding emoticon \">:(\"\n",
    "    s = s.replace(\"Mad\", \">:(\")\n",
    "    # Return the modified string with emoticons\n",
    "    return s\n",
    "    \n",
    "# Print the result of the emotify function \n",
    "print(emotify(\"Make me Smile\"))"
   ]
  },
  {
   "cell_type": "markdown",
   "id": "ad246df0-7ce6-4291-82e7-a5c4ec1a935f",
   "metadata": {},
   "source": [
    "# Unpacking List Problem"
   ]
  },
  {
   "cell_type": "code",
   "execution_count": 11,
   "id": "ca398c99-19b8-435c-8d7a-5e29c1777dce",
   "metadata": {},
   "outputs": [
    {
     "name": "stdout",
     "output_type": "stream",
     "text": [
      "first: 1, middle: [2, 3, 4, 5], last: 6\n"
     ]
    }
   ],
   "source": [
    "def unpack_list(lst):\n",
    "    # Assign the first element of the list to the variable 'first'\n",
    "    first = lst[0]  \n",
    "    # Assign the last element of the list to the variable 'last'\n",
    "    last = lst[-1]  \n",
    "    # Assign all elements of the list except the first and last to the variable 'middle'\n",
    "    middle = lst[1:-1] \n",
    "    # Print the first, middle, and last elements in a formatted string\n",
    "    print(\"first: {}, middle: {}, last: {}\".format(first, middle, last))\n",
    "\n",
    "unpack_list(lst = [1, 2, 3, 4, 5, 6])"
   ]
  }
 ],
 "metadata": {
  "kernelspec": {
   "display_name": "Python 3 (ipykernel)",
   "language": "python",
   "name": "python3"
  },
  "language_info": {
   "codemirror_mode": {
    "name": "ipython",
    "version": 3
   },
   "file_extension": ".py",
   "mimetype": "text/x-python",
   "name": "python",
   "nbconvert_exporter": "python",
   "pygments_lexer": "ipython3",
   "version": "3.12.4"
  }
 },
 "nbformat": 4,
 "nbformat_minor": 5
}
